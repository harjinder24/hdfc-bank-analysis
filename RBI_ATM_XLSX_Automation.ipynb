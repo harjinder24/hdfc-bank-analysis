{
 "cells": [
  {
   "cell_type": "code",
   "execution_count": 1,
   "id": "04e2e57b",
   "metadata": {},
   "outputs": [],
   "source": [
    "# importing modules\n",
    "from selenium import webdriver # install\n",
    "from selenium.webdriver.common.by import By\n",
    "from selenium.webdriver.support.ui import WebDriverWait\n",
    "from selenium.webdriver.support import expected_conditions as EC\n",
    "from bs4 import BeautifulSoup\n",
    "from webdriver_manager.chrome import ChromeDriverManager # install\n",
    "import os\n",
    "import requests\n"
   ]
  },
  {
   "cell_type": "code",
   "execution_count": 2,
   "id": "f8d83cd7",
   "metadata": {},
   "outputs": [
    {
     "name": "stdout",
     "output_type": "stream",
     "text": [
      "/Users/jasbirsingh/.wdm/drivers/chromedriver/mac64/115.0.5790.114/chromedriver-mac-x64/chromedriver\n"
     ]
    }
   ],
   "source": [
    "# getting driver path\n",
    "driver_path = ChromeDriverManager().install()\n",
    "print(driver_path)"
   ]
  },
  {
   "cell_type": "code",
   "execution_count": 3,
   "id": "02b16cfc",
   "metadata": {},
   "outputs": [
    {
     "name": "stderr",
     "output_type": "stream",
     "text": [
      "/var/folders/_1/07l5y1gd25s6fh_5n_bzlljm0000gn/T/ipykernel_16141/1390495998.py:2: DeprecationWarning: executable_path has been deprecated, please pass in a Service object\n",
      "  driver = webdriver.Chrome(executable_path='/Users/jasbirsingh/.wdm/drivers/chromedriver/mac64/115.0.5790.114/chromedriver-mac-x64/chromedriver')\n"
     ]
    }
   ],
   "source": [
    "# initializing the web driver\n",
    "driver = webdriver.Chrome(executable_path=driver_path)\n",
    "\n",
    "# opening the url\n",
    "driver.get('https://www.rbi.org.in/Scripts/ATMView.aspx')\n"
   ]
  },
  {
   "cell_type": "code",
   "execution_count": 4,
   "id": "b7de590b",
   "metadata": {},
   "outputs": [],
   "source": [
    "# finding and clicking on desired element\n",
    "element = driver.find_element(By.ID, \"btn2022\")\n",
    "element.click()"
   ]
  },
  {
   "cell_type": "code",
   "execution_count": 5,
   "id": "0c199c03",
   "metadata": {},
   "outputs": [],
   "source": [
    "# fetching data for all months\n",
    "element = driver.find_element(By.LINK_TEXT, \"All Months\")\n",
    "element.click()"
   ]
  },
  {
   "cell_type": "code",
   "execution_count": 6,
   "id": "c0beddcb",
   "metadata": {},
   "outputs": [],
   "source": [
    "# reading and fetching xlsx links\n",
    "page_source = driver.page_source\n",
    "soup = BeautifulSoup(page_source, 'html.parser')\n",
    "xlsx_links = []\n",
    "\n",
    "for link in soup.find_all('a', href = True):\n",
    "    href_value = link['href']\n",
    "    if href_value.lower().endswith('.xlsx'):\n",
    "        xlsx_links.append(href_value)"
   ]
  },
  {
   "cell_type": "code",
   "execution_count": 7,
   "id": "b9147653",
   "metadata": {},
   "outputs": [
    {
     "name": "stdout",
     "output_type": "stream",
     "text": [
      "https://rbidocs.rbi.org.in/rdocs/ATM/DOCs/ATMDECEMBER2022CFA6547F8B7F4CAD9711F84B0FDA47B4.XLSX\n",
      "https://rbidocs.rbi.org.in/rdocs/ATM/DOCs/ATMNOVEMBER202258C819A62B7A4E62A5CD18B89722B406.XLSX\n",
      "https://rbidocs.rbi.org.in/rdocs/ATM/DOCs/ATMOCTOBER202268A5EE9DC3C8404D931EEED487A22380.XLSX\n",
      "https://rbidocs.rbi.org.in/rdocs/ATM/DOCs/ATMSEPT2022757FCD4121974841840DF3A80AA9B5F0.XLSX\n",
      "https://rbidocs.rbi.org.in/rdocs/ATM/DOCs/ATMAUGUST20222A25E249961C42F5B5AD54F25F2FC9FD.XLSX\n",
      "https://rbidocs.rbi.org.in/rdocs/ATM/DOCs/ATMJULY20224C14FCD4FB824FF88D5F00BD92FF64C7.XLSX\n",
      "https://rbidocs.rbi.org.in/rdocs/ATM/DOCs/ATMJUNE2022609740452711440CA003589C4F9CA184.XLSX\n",
      "https://rbidocs.rbi.org.in/rdocs/ATM/DOCs/ATM24062022B1682B16A8DE46F9A4EF93B1A45F4483.XLSX\n",
      "https://rbidocs.rbi.org.in/rdocs/ATM/DOCs/ATMAICSAPRIL2022DCE60947F453408BB0B9B12FC25B4FB3.XLSX\n",
      "https://rbidocs.rbi.org.in/rdocs/ATM/DOCs/ATMCARDSTATISTICSM202238D403B4F64C4257B7FB8542E1058924.XLSX\n",
      "https://rbidocs.rbi.org.in/rdocs/ATM/DOCs/ATMFEBRUARY2022032DBE15C26844218E873BE29E764862.XLSX\n",
      "https://rbidocs.rbi.org.in/rdocs/ATM/DOCs/ATM2022JANUARY1C73A4D5438C48959894AEC2DA8AB3C5.XLSX\n"
     ]
    }
   ],
   "source": [
    "for link in xlsx_links:\n",
    "    print(link)"
   ]
  },
  {
   "cell_type": "code",
   "execution_count": 8,
   "id": "ad64df56",
   "metadata": {},
   "outputs": [
    {
     "name": "stdout",
     "output_type": "stream",
     "text": [
      "File downloaded successfully to: /Users/jasbirsingh/Desktop/Scaler DS/HDFC Analysis/Dataset\n",
      "File downloaded successfully to: /Users/jasbirsingh/Desktop/Scaler DS/HDFC Analysis/Dataset\n",
      "File downloaded successfully to: /Users/jasbirsingh/Desktop/Scaler DS/HDFC Analysis/Dataset\n",
      "File downloaded successfully to: /Users/jasbirsingh/Desktop/Scaler DS/HDFC Analysis/Dataset\n",
      "File downloaded successfully to: /Users/jasbirsingh/Desktop/Scaler DS/HDFC Analysis/Dataset\n",
      "File downloaded successfully to: /Users/jasbirsingh/Desktop/Scaler DS/HDFC Analysis/Dataset\n",
      "File downloaded successfully to: /Users/jasbirsingh/Desktop/Scaler DS/HDFC Analysis/Dataset\n",
      "File downloaded successfully to: /Users/jasbirsingh/Desktop/Scaler DS/HDFC Analysis/Dataset\n",
      "File downloaded successfully to: /Users/jasbirsingh/Desktop/Scaler DS/HDFC Analysis/Dataset\n",
      "File downloaded successfully to: /Users/jasbirsingh/Desktop/Scaler DS/HDFC Analysis/Dataset\n",
      "File downloaded successfully to: /Users/jasbirsingh/Desktop/Scaler DS/HDFC Analysis/Dataset\n",
      "File downloaded successfully to: /Users/jasbirsingh/Desktop/Scaler DS/HDFC Analysis/Dataset\n"
     ]
    }
   ],
   "source": [
    "# downloading from .xlsx links\n",
    "def savefiles(url, path):\n",
    "    response = requests.get(url)\n",
    "    if response.status_code == 200:\n",
    "        file_name = os.path.join(path, url.split('/')[-1][:11] + \".xlsx\")\n",
    "        with open(file_name, 'wb') as f:\n",
    "            f.write(response.content)\n",
    "        print(f\"File downloaded successfully to: {path}\")\n",
    "    else:\n",
    "        print(f\"Failed to download the file. Status code: {response.status_code}\")\n",
    "        \n",
    "\n",
    "path = '/Users/jasbirsingh/Desktop/Scaler DS/HDFC Analysis/Dataset' # change this to where you want to download\n",
    "for url in xlsx_links:\n",
    "    savefiles(url, path)"
   ]
  }
 ],
 "metadata": {
  "kernelspec": {
   "display_name": "Python 3 (ipykernel)",
   "language": "python",
   "name": "python3"
  },
  "language_info": {
   "codemirror_mode": {
    "name": "ipython",
    "version": 3
   },
   "file_extension": ".py",
   "mimetype": "text/x-python",
   "name": "python",
   "nbconvert_exporter": "python",
   "pygments_lexer": "ipython3",
   "version": "3.9.1"
  }
 },
 "nbformat": 4,
 "nbformat_minor": 5
}
